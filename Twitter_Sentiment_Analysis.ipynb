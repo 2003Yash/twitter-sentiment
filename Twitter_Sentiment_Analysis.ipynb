{
  "nbformat": 4,
  "nbformat_minor": 0,
  "metadata": {
    "colab": {
      "provenance": [],
      "authorship_tag": "ABX9TyMZQycn394Uh6hwAvMYUjch",
      "include_colab_link": true
    },
    "kernelspec": {
      "name": "python3",
      "display_name": "Python 3"
    },
    "language_info": {
      "name": "python"
    }
  },
  "cells": [
    {
      "cell_type": "markdown",
      "metadata": {
        "id": "view-in-github",
        "colab_type": "text"
      },
      "source": [
        "<a href=\"https://colab.research.google.com/github/2003Yash/twitter-sentiment/blob/main/Twitter_Sentiment_Analysis.ipynb\" target=\"_parent\"><img src=\"https://colab.research.google.com/assets/colab-badge.svg\" alt=\"Open In Colab\"/></a>"
      ]
    },
    {
      "cell_type": "markdown",
      "source": [
        "Create Environment"
      ],
      "metadata": {
        "id": "YTpUDLB6bb2z"
      }
    },
    {
      "cell_type": "code",
      "execution_count": null,
      "metadata": {
        "id": "fWH19jtGZ6-x"
      },
      "outputs": [],
      "source": [
        "import tweepy as tw\n",
        "import numpy as np\n",
        "import pandas as pd\n",
        "import matplotlib.pyplot as plt"
      ]
    },
    {
      "cell_type": "markdown",
      "source": [
        "Get Twitter Tokens and Keys"
      ],
      "metadata": {
        "id": "_42Q5j9IbeRF"
      }
    },
    {
      "cell_type": "code",
      "source": [
        "# got them from twitter devolper account -> projects/app -> keys / tokens\n",
        "consumer_key = '-'\n",
        "consumer_secret = '-'\n",
        "access_token = '-'\n",
        "access_token_secret = '-'"
      ],
      "metadata": {
        "id": "5iov7eUtaNjW"
      },
      "execution_count": null,
      "outputs": []
    },
    {
      "cell_type": "markdown",
      "source": [
        "Authenticate with Twitter"
      ],
      "metadata": {
        "id": "3JKFIKf_bip7"
      }
    },
    {
      "cell_type": "code",
      "source": [
        "# Authenticate\n",
        "auth = tw.OAuthHandler(consumer_key, consumer_secret)\n",
        "# Set Tokens\n",
        "auth.set_access_token(access_token, access_token_secret)\n",
        "# Instantiate API\n",
        "api = tw.API(auth, wait_on_rate_limit=True)"
      ],
      "metadata": {
        "id": "pQcXrggUbNpv"
      },
      "execution_count": null,
      "outputs": []
    },
    {
      "cell_type": "markdown",
      "source": [
        "Get Tweets From Twitter"
      ],
      "metadata": {
        "id": "hkHvzWhpb6g7"
      }
    },
    {
      "cell_type": "code",
      "source": [
        "# now twitter removed permission for free devolper accounts\n",
        "\n",
        "hashtag = \"#PresidentialDebate\"\n",
        "query = tw.Cursor(api.search_tweets, q=hashtag).items(1000) #get 1000 tweets on given hashtag\n",
        "tweets = [{'Tweet':tweet.text, 'Timestamp':tweet.created_at} for tweet in query] #format the twwets\n",
        "print(tweets)"
      ],
      "metadata": {
        "id": "0MOpDoSjdKHj"
      },
      "execution_count": null,
      "outputs": []
    },
    {
      "cell_type": "code",
      "source": [
        "#create a dataframe from tweets\n",
        "df = pd.DataFrame.from_dict(tweets)\n",
        "df.head()"
      ],
      "metadata": {
        "id": "7s5dmGfgdLF3"
      },
      "execution_count": null,
      "outputs": []
    },
    {
      "cell_type": "code",
      "source": [
        "df.shape"
      ],
      "metadata": {
        "id": "z6woeo15dhm1"
      },
      "execution_count": null,
      "outputs": []
    },
    {
      "cell_type": "code",
      "source": [
        "# create reference array with keywords to understand the canditate context of each tweet\n",
        "trump_handle = ['DonaldTrump', 'Donald Trump', 'Donald', 'Trump', 'Trump\\'s']\n",
        "biden_handle = ['JoeBiden', 'Joe Biden', 'Joe', 'Biden', 'Biden\\'s']"
      ],
      "metadata": {
        "id": "DZdmTOxGdK7J"
      },
      "execution_count": null,
      "outputs": []
    },
    {
      "cell_type": "markdown",
      "source": [
        "One-Hot encode the tweets df with 2 new columns\n"
      ],
      "metadata": {
        "id": "7k9olYiKeXSi"
      }
    },
    {
      "cell_type": "code",
      "source": [
        "def identify_subject(tweet, refs): #takes the tweets and ref arrays and flags their referece\n",
        "    flag = 0\n",
        "    for ref in refs:\n",
        "        if tweet.find(ref) != -1:\n",
        "            flag = 1\n",
        "    return flag\n",
        "\n",
        "df['Trump'] = df['Tweet'].apply(lambda x: identify_subject(x, trump_handle)) #we create new col trump and we flag all tweets\n",
        "df['Biden'] = df['Tweet'].apply(lambda x: identify_subject(x, biden_handle)) #we create new col biden and we flag all tweets and lambda helps to iterate through all tweets"
      ],
      "metadata": {
        "id": "RE0zshCVdyDc"
      },
      "execution_count": null,
      "outputs": []
    },
    {
      "cell_type": "code",
      "source": [
        "df.head(10)"
      ],
      "metadata": {
        "id": "1lRK0NUOeS2_"
      },
      "execution_count": null,
      "outputs": []
    },
    {
      "cell_type": "markdown",
      "source": [
        "Pre-Process using NLTK"
      ],
      "metadata": {
        "id": "nJ6kWL5Xe_xv"
      }
    },
    {
      "cell_type": "code",
      "source": [
        "# Import stopwords\n",
        "import nltk\n",
        "from nltk.corpus import stopwords\n",
        "\n",
        "# Import textblob\n",
        "from textblob import Word, TextBlob #helps in sentiment analysis"
      ],
      "metadata": {
        "id": "ciY3nL5_fDLB"
      },
      "execution_count": null,
      "outputs": []
    },
    {
      "cell_type": "code",
      "source": [
        "nltk.download('stopwords')\n",
        "nltk.download('wordnet')\n",
        "stop_words = stopwords.words('english')\n",
        "custom_stopwords = ['RT', '#PresidentialDebate']  # jsut an array of words, we also use them as stopwords and remove from the data"
      ],
      "metadata": {
        "id": "9e_eOSKTe0iI"
      },
      "execution_count": null,
      "outputs": []
    },
    {
      "cell_type": "code",
      "source": [
        "def preprocess_tweets(tweet, custom_stopwords):\n",
        "    processed_tweet = tweet\n",
        "    processed_tweet.replace('[^\\w\\s]', '') # removes [^\\w\\s] with \" \"\n",
        "    processed_tweet = \" \".join(word for word in processed_tweet.split() if word not in stop_words) # removes stop words\n",
        "    processed_tweet = \" \".join(word for word in processed_tweet.split() if word not in custom_stopwords) # removes custom stop words\n",
        "    processed_tweet = \" \".join(Word(word).lemmatize() for word in processed_tweet.split())  # lemmatization\n",
        "    return(processed_tweet) #returns processed tweet\n",
        "\n",
        "df['Processed Tweet'] = df['Tweet'].apply(lambda x: preprocess_tweets(x, custom_stopwords)) # use lambda to all tweets and add col processed tweets and add procssed tweets using above function"
      ],
      "metadata": {
        "id": "LiAxVDHQf8xA"
      },
      "execution_count": null,
      "outputs": []
    },
    {
      "cell_type": "code",
      "source": [
        "df.head()"
      ],
      "metadata": {
        "id": "ApFMbDmPgGGR"
      },
      "execution_count": null,
      "outputs": []
    },
    {
      "cell_type": "code",
      "source": [
        "print('Base review\\n', df['Tweet'][0])\n",
        "print('\\n------------------------------------\\n')\n",
        "print('Cleaned and lemmatized review\\n', df['Processed Tweet'][0])"
      ],
      "metadata": {
        "id": "AD1raxf5hTT6"
      },
      "execution_count": null,
      "outputs": []
    },
    {
      "cell_type": "markdown",
      "source": [
        "SENTIMENT ANALYSIS"
      ],
      "metadata": {
        "id": "3WfaI_vlhCb7"
      }
    },
    {
      "cell_type": "code",
      "source": [
        "df['polarity'] = df['Processed Tweet'].apply(lambda x: TextBlob(x).sentiment[0]) # using lambda to do all x, converting x into textblob object, using sentiment to get sentiment, sentiment[0] means polarity\n",
        "df['subjectivity'] = df['Processed Tweet'].apply(lambda x: TextBlob(x).sentiment[1]) # sentiment[1] means subjectivity\n",
        "#polairty means categorizing the sentiment as positive, negative, or neutral and subjectivity means a way to measure how much of a text is based on personal opinion versus factual information. A higher subjectivity score indicates that the text contains more personal opinion.\n",
        "df[['Processed Tweet', 'Biden', 'Trump', 'polarity', 'subjectivity']].head() #printing only desired colmns"
      ],
      "metadata": {
        "id": "-qZAo9OUhWLp"
      },
      "execution_count": null,
      "outputs": []
    },
    {
      "cell_type": "code",
      "source": [
        "display(df[df['Trump']==1][['Trump','polarity','subjectivity']].groupby('Trump').agg([np.mean, np.max, np.min, np.median])) # sentiment staristics of trump for both polarity and subjectivity\n",
        "df[df['Biden']==1][['Biden','polarity','subjectivity']].groupby('Biden').agg([np.mean, np.max, np.min, np.median]) # sentiment statistics of biden for both polarity and subjectivity"
      ],
      "metadata": {
        "id": "tFSKxaTchcda"
      },
      "execution_count": null,
      "outputs": []
    },
    {
      "cell_type": "markdown",
      "source": [
        "VISUALIZE THE SENTIMENT"
      ],
      "metadata": {
        "id": "ipSgZXPthieC"
      }
    },
    {
      "cell_type": "code",
      "source": [
        "biden = df[df['Biden']==1][['Timestamp', 'polarity']]\n",
        "biden = biden.sort_values(by='Timestamp', ascending=True)\n",
        "biden['MA Polarity'] = biden.polarity.rolling(10, min_periods=3).mean() #plotting avg of 10 tweents\n",
        "\n",
        "trump = df[df['Trump']==1][['Timestamp', 'polarity']]\n",
        "trump = trump.sort_values(by='Timestamp', ascending=True)\n",
        "trump['MA Polarity'] = trump.polarity.rolling(10, min_periods=3).mean()"
      ],
      "metadata": {
        "id": "hKmKOhFKiFYd"
      },
      "execution_count": null,
      "outputs": []
    },
    {
      "cell_type": "code",
      "source": [
        "trump.head()"
      ],
      "metadata": {
        "id": "sjZY9-qnkb06"
      },
      "execution_count": null,
      "outputs": []
    },
    {
      "cell_type": "code",
      "source": [
        "repub = 'red'\n",
        "demo = 'blue'\n",
        "fig, axes = plt.subplots(2, 1, figsize=(13, 10))\n",
        "\n",
        "#plotting trump and biden moving average polarity of 10 tweets\n",
        "\n",
        "axes[0].plot(biden['Timestamp'], biden['MA Polarity'])\n",
        "axes[0].set_title(\"\\n\".join([\"Biden Polarity\"]))\n",
        "axes[1].plot(trump['Timestamp'], trump['MA Polarity'], color='red')\n",
        "axes[1].set_title(\"\\n\".join([\"Trump Polarity\"]))\n",
        "\n",
        "fig.suptitle(\"\\n\".join([\"Presidential Debate Analysis\"]), y=0.98)\n",
        "\n",
        "plt.show()"
      ],
      "metadata": {
        "id": "xBAHdyEckeEK"
      },
      "execution_count": null,
      "outputs": []
    }
  ]
}